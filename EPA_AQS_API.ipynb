{
  "nbformat": 4,
  "nbformat_minor": 0,
  "metadata": {
    "colab": {
      "private_outputs": true,
      "provenance": [],
      "include_colab_link": true
    },
    "kernelspec": {
      "name": "python3",
      "display_name": "Python 3"
    },
    "language_info": {
      "name": "python"
    }
  },
  "cells": [
    {
      "cell_type": "markdown",
      "metadata": {
        "id": "view-in-github",
        "colab_type": "text"
      },
      "source": [
        "<a href=\"https://colab.research.google.com/github/hlberghout/borrowed/blob/main/EPA_AQS_API.ipynb\" target=\"_parent\"><img src=\"https://colab.research.google.com/assets/colab-badge.svg\" alt=\"Open In Colab\"/></a>"
      ]
    },
    {
      "cell_type": "markdown",
      "source": [
        "#Environmental Protection Agency Air Quality System Application Programming Interface (EPA AQS API)\n",
        "\n"
      ],
      "metadata": {
        "id": "zCThU0WJw1hU"
      }
    },
    {
      "cell_type": "markdown",
      "source": [
        "**Copy this to your google drive first!**\n",
        "\n",
        "(File / Save a copy in Drive)"
      ],
      "metadata": {
        "id": "8-1DqnHM142v"
      }
    },
    {
      "cell_type": "markdown",
      "source": [
        "##Use the API to find all the parameters that describe the data we're after\n",
        "\n",
        "1. Look through the 'Lists' sections of the API manual: https://aqs.epa.gov/aqsweb/documents/data_api.html\n",
        "1. Use the different commands within 'Lists' to find all the API codes for BTEX measurements at the Hawthorne site. Add the codes to the bulleted list below so you have access to them later\n",
        "\n",
        "  - Utah: `state=49`\n",
        "  - Salt Lake County: `county=`\n",
        "  - Hawthorne site: `site=`\n",
        "  - Benzene concentration: `param=`\n",
        "  - Toluene concentration: `param=`\n",
        "  - *o*-Xylene concentration: `param=`\n",
        "  - *m,p*-xylene concentration: `param=`\n",
        "  \n",
        "1. Pick one of the four VOC datasets to work with — each of you will download data for a different VOC\n",
        "  \n",
        "1. Look at the 'Sample Data' section of the API manual to see how to put together a `sampleData/bySite` API call for your compound\n",
        "  - Request data from January 1, 2021 through December 31, 2021\n",
        "\n",
        "1. Once you have an API call that works, store the url in the code block below\n",
        "\n",
        "\n"
      ],
      "metadata": {
        "id": "IeaA2d3Jx4i9"
      }
    },
    {
      "cell_type": "code",
      "source": [
        "myAPICall = 'YourURLHere'"
      ],
      "metadata": {
        "id": "hWjMMMkp2FRn"
      },
      "execution_count": null,
      "outputs": []
    },
    {
      "cell_type": "markdown",
      "source": [
        "## Using Pandas to load data into a dataframe object"
      ],
      "metadata": {
        "id": "i8A6s2yd2gsX"
      }
    },
    {
      "cell_type": "markdown",
      "source": [
        "1. Load the libraries"
      ],
      "metadata": {
        "id": "P_jRSsMW24eC"
      }
    },
    {
      "cell_type": "code",
      "source": [
        "import requests\n",
        "import pandas as pd"
      ],
      "metadata": {
        "id": "Ntddvg_a2qnX"
      },
      "execution_count": null,
      "outputs": []
    },
    {
      "cell_type": "markdown",
      "source": [
        "2. Call the API to store the .JSON string"
      ],
      "metadata": {
        "id": "IKvCxzaP27IL"
      }
    },
    {
      "cell_type": "code",
      "source": [
        "apidata = requests.get(myAPICall).json()"
      ],
      "metadata": {
        "id": "cwtjvDbD3PTb"
      },
      "execution_count": null,
      "outputs": []
    },
    {
      "cell_type": "markdown",
      "source": [
        "3. Check that there's something in the `apidata` object"
      ],
      "metadata": {
        "id": "qz9c9AJt3WN0"
      }
    },
    {
      "cell_type": "code",
      "source": [
        "apidata"
      ],
      "metadata": {
        "id": "jG1BVlLN3aFS"
      },
      "execution_count": null,
      "outputs": []
    },
    {
      "cell_type": "markdown",
      "source": [
        "4. Load that huge string into a Pandas dataframe using the `json_normalize` pandas command, then display the dataframe"
      ],
      "metadata": {
        "id": "KT9Bugc03jnx"
      }
    },
    {
      "cell_type": "code",
      "source": [
        "df = pd.json_normalize(apidata, record_path =['Data'])"
      ],
      "metadata": {
        "id": "L5yXsN0W3sww"
      },
      "execution_count": null,
      "outputs": []
    },
    {
      "cell_type": "markdown",
      "source": [
        "5. Use the `columns` pandas command to list all the columns stored in dataframe `df`. \n",
        "  - What column holds the date of the measurement? \n",
        "  - What column holds the measured concentration of your VOC?"
      ],
      "metadata": {
        "id": "v9GG7rFD4p7k"
      }
    },
    {
      "cell_type": "code",
      "source": [],
      "metadata": {
        "id": "bNudEldt5NHQ"
      },
      "execution_count": null,
      "outputs": []
    },
    {
      "cell_type": "markdown",
      "source": [
        "6. Use the `plot` pandas command to display the concentration over time. You will need to replace `XYZ` in the command below with the column names that have your date and concentration data"
      ],
      "metadata": {
        "id": "8RkBsSFa7Euu"
      }
    },
    {
      "cell_type": "code",
      "source": [
        "df.plot(x='XYZ', y='XYZ', style='o')"
      ],
      "metadata": {
        "id": "t-SX-6wZ76s1"
      },
      "execution_count": null,
      "outputs": []
    }
  ]
}
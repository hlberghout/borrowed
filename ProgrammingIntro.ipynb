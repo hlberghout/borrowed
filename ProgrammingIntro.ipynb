{
  "nbformat": 4,
  "nbformat_minor": 0,
  "metadata": {
    "colab": {
      "private_outputs": true,
      "provenance": [],
      "include_colab_link": true
    },
    "kernelspec": {
      "name": "python3",
      "display_name": "Python 3"
    },
    "language_info": {
      "name": "python"
    }
  },
  "cells": [
    {
      "cell_type": "markdown",
      "metadata": {
        "id": "view-in-github",
        "colab_type": "text"
      },
      "source": [
        "<a href=\"https://colab.research.google.com/github/hlberghout/borrowed/blob/main/ProgrammingIntro.ipynb\" target=\"_parent\"><img src=\"https://colab.research.google.com/assets/colab-badge.svg\" alt=\"Open In Colab\"/></a>"
      ]
    },
    {
      "cell_type": "markdown",
      "source": [
        "#Check that the notebook works\n",
        "\n",
        "Press the play button next to the line of code below\n",
        "\n",
        "If `hello world` appears below the line of code, things are working"
      ],
      "metadata": {
        "id": "DU5vXcILVaCU"
      }
    },
    {
      "cell_type": "code",
      "source": [
        "print('hello world')"
      ],
      "metadata": {
        "id": "7cybxogaVZhw"
      },
      "execution_count": null,
      "outputs": []
    },
    {
      "cell_type": "markdown",
      "source": [
        "# Functional programming example\n",
        "\n",
        "Quadratic equation:"
      ],
      "metadata": {
        "id": "nDYpVl-_k3wu"
      }
    },
    {
      "cell_type": "code",
      "source": [
        "def QuadraticEquation(a,b,c):\n",
        "  # def defines a function\n",
        "  # our function is named QuadraticEquation\n",
        "  # our inputs are a, b, and c\n",
        "\n",
        "  discriminant = b**2 - 4*a*c \n",
        "\n",
        "  x_plus = (-1*b + discriminant**0.5)/(2*a)\n",
        "  x_minus = (-1*b - discriminant**0.5)/(2*a)\n",
        "\n",
        "  # x = [-b +/- sqrt(b^2-4ac) ] / 2a\n",
        "  \n",
        "  return(x_plus,x_minus)\n"
      ],
      "metadata": {
        "id": "NHPoC-xvjPH_"
      },
      "execution_count": null,
      "outputs": []
    },
    {
      "cell_type": "code",
      "source": [
        "QuadraticEquation(1,2,-3)"
      ],
      "metadata": {
        "id": "q1n5xdbakgc9"
      },
      "execution_count": null,
      "outputs": []
    },
    {
      "cell_type": "markdown",
      "source": [
        "#Object-oriented programming example"
      ],
      "metadata": {
        "id": "BADUFXoIk7Zz"
      }
    },
    {
      "cell_type": "code",
      "source": [
        "class Beaker:\n",
        "\n",
        "  def add(self,vol):\n",
        "    #this function takes a volume as an input and adds that amount to the \n",
        "    # current volume of the beaker\n",
        "    self.Volume = self.Volume + vol\n",
        "    self.printvolume()\n",
        "\n",
        "  def remove(self,vol):\n",
        "    self.Volume = self.Volume - vol \n",
        "    self.printvolume()\n",
        "\n",
        "  def empty(self):\n",
        "    #this function sets beaker volume to zero\n",
        "    self.Volume = 0\n",
        "    self.printvolume()\n",
        "\n",
        "  def printvolume(self):\n",
        "    #this function prints the current volume of the beaker\n",
        "    print(\"Beaker contains %.2f mL\" % self.Volume)\n",
        "\n",
        "  def __init__(self):   #this sets the initial state for any Beaker object that gets created\n",
        "    self.Volume = 0"
      ],
      "metadata": {
        "id": "M923p5ZblA7v"
      },
      "execution_count": null,
      "outputs": []
    },
    {
      "cell_type": "code",
      "source": [
        "b = Beaker()"
      ],
      "metadata": {
        "id": "sFqxDZF9mV_7"
      },
      "execution_count": null,
      "outputs": []
    },
    {
      "cell_type": "code",
      "source": [
        "b.printvolume()"
      ],
      "metadata": {
        "id": "Gjsy3D6OmZNM"
      },
      "execution_count": null,
      "outputs": []
    },
    {
      "cell_type": "code",
      "source": [
        "b.add(5)"
      ],
      "metadata": {
        "id": "XNeqEcOumbqz"
      },
      "execution_count": null,
      "outputs": []
    },
    {
      "cell_type": "code",
      "source": [
        "b.remove(1)"
      ],
      "metadata": {
        "id": "vM2jwiPtxEfW"
      },
      "execution_count": null,
      "outputs": []
    },
    {
      "cell_type": "code",
      "source": [
        "b.empty()"
      ],
      "metadata": {
        "id": "mcjB8NaJmfMK"
      },
      "execution_count": null,
      "outputs": []
    }
  ]
}